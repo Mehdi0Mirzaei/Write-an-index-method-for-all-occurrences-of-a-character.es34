{
 "cells": [
  {
   "cell_type": "code",
   "execution_count": 1,
   "id": "8ee26d02",
   "metadata": {},
   "outputs": [],
   "source": [
    "def myindexes(txt,char):\n",
    "    idxs=[]\n",
    "    idx=0\n",
    "    for item in txt:\n",
    "        if item == char:\n",
    "            idxs.append(idx)\n",
    "        idx+=1\n",
    "    return idxs"
   ]
  },
  {
   "cell_type": "code",
   "execution_count": 2,
   "id": "5f91c4aa",
   "metadata": {},
   "outputs": [],
   "source": [
    "txt='Hello world'"
   ]
  },
  {
   "cell_type": "code",
   "execution_count": 4,
   "id": "fc58d47f",
   "metadata": {},
   "outputs": [
    {
     "data": {
      "text/plain": [
       "[4, 7]"
      ]
     },
     "execution_count": 4,
     "metadata": {},
     "output_type": "execute_result"
    }
   ],
   "source": [
    "myindexes(txt,'o')"
   ]
  }
 ],
 "metadata": {
  "kernelspec": {
   "display_name": "Python 3 (ipykernel)",
   "language": "python",
   "name": "python3"
  },
  "language_info": {
   "codemirror_mode": {
    "name": "ipython",
    "version": 3
   },
   "file_extension": ".py",
   "mimetype": "text/x-python",
   "name": "python",
   "nbconvert_exporter": "python",
   "pygments_lexer": "ipython3",
   "version": "3.9.17"
  }
 },
 "nbformat": 4,
 "nbformat_minor": 5
}
